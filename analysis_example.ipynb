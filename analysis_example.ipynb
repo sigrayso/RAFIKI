{
 "cells": [
  {
   "cell_type": "markdown",
   "id": "6463185f",
   "metadata": {},
   "source": [
    "## Generating SZ Data Example: "
   ]
  },
  {
   "cell_type": "markdown",
   "id": "84ae78fd",
   "metadata": {},
   "source": [
    "Here we show how to generate a projected map of the Compton-y parameter, extract data around a specified galaxy sample, and produce radial profiles, moment profiles, and thermal energy results."
   ]
  },
  {
   "cell_type": "code",
   "execution_count": null,
   "id": "5e21a8bd",
   "metadata": {},
   "outputs": [],
   "source": [
    "import yt\n",
    "import matplotlib.pyplot as plt\n",
    "import matplotlib.colors as colors\n",
    "from matplotlib import gridspec\n",
    "import numpy as np\n",
    "import caesar\n",
    "import pandas as pd\n",
    "import csv\n",
    "from astropy.io import fits\n",
    "from astropy.utils.data import get_pkg_data_filename\n",
    "from astropy.convolution import Gaussian2DKernel, interpolate_replace_nans\n",
    "from astropy.convolution import convolve, convolve_fft\n",
    "from Generating_SZ_Data import *\n",
    "from functions import *"
   ]
  },
  {
   "cell_type": "markdown",
   "id": "f28eef2f",
   "metadata": {},
   "source": [
    "We begin by creating a map of the Compton-y parameter. Here, you need the snapshot, snapshot information, and pixel resolution you want for your analysis."
   ]
  },
  {
   "cell_type": "code",
   "execution_count": null,
   "id": "92f32ba9",
   "metadata": {},
   "outputs": [],
   "source": [
    "filename = '/Volumes/easystore/noagn/snap_m50n512_105.hdf5'\n",
    "projection_direction = 'x' #x, y, or z\n",
    "output_name = 'noagn_x_szy.npy' #Name must end in '_x[y,z]_szy.npy' \n",
    "z = 0.9927 #redshift of your snapshot\n",
    "comov =3289.7*1000   #Calculate with https://www.astro.ucla.edu/~wright/CosmoCalc.html\n",
    "frb=determining_frb_size(50, z, comov, 2.5) #Number of pixels in your fixed resolution buffer, suggested to correspond to resolution at least twice that of your observational comparison"
   ]
  },
  {
   "cell_type": "markdown",
   "id": "26e0bc47",
   "metadata": {},
   "source": [
    "With the snapshot information specified, we run generating_sz_data from Generating_SZ_Data.py, which generates a .npy file containing the 2D map of the Compton-y signal in your snapshot."
   ]
  },
  {
   "cell_type": "code",
   "execution_count": null,
   "id": "b1cf9ce4",
   "metadata": {},
   "outputs": [],
   "source": [
    "generating_sz_data(filename, projection_direction, output_name, frb, z)"
   ]
  },
  {
   "cell_type": "markdown",
   "id": "00679159",
   "metadata": {},
   "source": [
    "We now need to pull out galaxy sample data from the Caesar file. Below, you can set the path to the Caesar file. You also need to to change the conversion factors in the last three lines of the code below. These convert from Caesar's units (kpccm) to the pixels as set by your frb above. In this example, the box is 50 Mpccm/h: 50/0.68 = 73.5294= 73529.4117647 kpccm. This we divide by 1820 to get our conversion of 40.4 "
   ]
  },
  {
   "cell_type": "code",
   "execution_count": null,
   "id": "b4a865ee",
   "metadata": {},
   "outputs": [],
   "source": [
    "gals = caesar.load('/Volumes/easystore/allphys/m50n512_105.hdf5')\n",
    "\n",
    "#Get galaxy data\n",
    "galaxy_stellar = [float(i.masses['stellar'].d) for i in gals.galaxies]\n",
    "halo = [float(i.halo.masses['dm'].d) for i in gals.galaxies]\n",
    "rad = [float(i.halo.virial_quantities['r200c'].d) for i in gals.galaxies]\n",
    "ages = [float(i.ages['mass_weighted'].d) for  i in gals.galaxies]\n",
    "sfr = [float(i.sfr.d )for  i in gals.galaxies]\n",
    "\n",
    "galaxies_pos = [i.pos for i in gals.galaxies]\n",
    "xs=[]\n",
    "ys=[]\n",
    "zs=[]\n",
    "\n",
    "conversion_factor = determining_caesar_conversion(50, frb)#conversion needed to align distance scales \n",
    "\n",
    "'''Change the conversion scales from Caesar output to sz data'''\n",
    "for i in range(len(galaxies_pos)):\n",
    "    xs.append(((galaxies_pos[i][0].value)/conversion_factor).item()) \n",
    "    ys.append(((galaxies_pos[i][1].value)/conversion_factor).item())\n",
    "    zs.append(((galaxies_pos[i][2].value)/conversion_factor).item())"
   ]
  },
  {
   "cell_type": "markdown",
   "id": "276c4efc",
   "metadata": {},
   "source": [
    "Now we can conduct our analysis. RAFIKI is equipped to do three tasks with the tSZ data: \n",
    "\n",
    "1) Radial profiles of the Compton-y parameter\n",
    "\n",
    "2) Radial profiles of the moments (allowing for measurements of asymmetry)\n",
    "\n",
    "3) Thermal energy calculation within a given aperture"
   ]
  },
  {
   "cell_type": "markdown",
   "id": "555153a6",
   "metadata": {},
   "source": [
    "Below, you can set key parameters to conduct any or all of these analyses. \n",
    "The stacking and visualizing portion of the analysis uses these files as is shown in stacking_example.ipynb"
   ]
  },
  {
   "cell_type": "code",
   "execution_count": null,
   "id": "50dd2fe2",
   "metadata": {},
   "outputs": [],
   "source": [
    "#Name of the SZ data file without '_x[y,z]_szy.npy'\n",
    "sz_dat_path = 'noagn_'\n",
    "#Which analysis would you like to run-Radial profiles (rp), Moment profiles (mp) and/or thermal energy (te)?\n",
    "analysis = 'rpmpte' #currently set to do all three \n",
    "#Minimum stellar mass for your sample (ie 1e11):\n",
    "low_sm = 10**(11) #Will run analysis on all galaxies above this threshold, other population cuts will be made later in the process. \n",
    "#Pixel length of box you want to cut around each galaxy:\n",
    "width = 300\n",
    "#Standard deviation of Gaussian kernel in pixels for beam convolution: \n",
    "beam_kernel = 1.68\n",
    "#Label assigned to output files:\n",
    "label = 'example'\n",
    "#Radius of aperature used to calculate thermal energy\n",
    "aperature = 50\n",
    "#If you don't run the first sections of code to generate SZ data, be sure to define the frb here\n",
    "frb = 1820"
   ]
  },
  {
   "cell_type": "markdown",
   "id": "7448f00b",
   "metadata": {},
   "source": [
    "Below is the code to generate the data files for data that has been projected in all three directions. If you have only projected in one or two directions, change the specifications of the for loop to reflect that. This process combines all three projections in each output. "
   ]
  },
  {
   "cell_type": "code",
   "execution_count": null,
   "id": "4f1fd995",
   "metadata": {},
   "outputs": [],
   "source": [
    "for i in [\"x\", \"y\", \"z\"]:\n",
    "    print('Beginning analysis for one projection')\n",
    "    sz_dat = np.load(sz_dat_path+i+'_szy.npy')\n",
    "    galaxy_sample = sorting(galaxy_stellar, low_sm) #Gives indices of galaxies in Caesar catalogs larger than low_sm\n",
    "    with open('galaxy_sample_%s.csv' %label ,'a', newline = '') as f: \n",
    "        w = csv.writer(f)\n",
    "        for j in galaxy_sample:\n",
    "            c = w.writerow([galaxy_stellar[j],halo[j],rad[j],ages[j],sfr[j]])\n",
    "    cropping_function = globals()[\"cropping_sz_\"+str(i)]\n",
    "    stamps = cropping_function(sz_dat, xs, ys, zs, galaxy_sample, width, frb) #Generates stamps around each galaxy\n",
    "    if 'rp' in analysis:\n",
    "        make_radial_profiles(stamps, beam_kernel, label)\n",
    "        print('Completed tSZ radial profiles for one projection')\n",
    "    if 'mp' in analysis:\n",
    "        make_moment_profiles(stamps, beam_kernel, label)\n",
    "        print('Completed moments radial profiles for one projection')\n",
    "    if 'te' in analysis:\n",
    "        thermal_energy(stamps, beam_kernel, label, aperature)\n",
    "        print('Completed thermal energy calculations for one projection')\n"
   ]
  },
  {
   "cell_type": "markdown",
   "id": "dd654550",
   "metadata": {},
   "source": [
    "If you have run all three analyses, you will now have the following files:\n",
    "\n",
    "**galaxy_sample_[label].csv** - galaxy properties for your sample\n",
    "\n",
    "**radial_[label].csv** - Radial profile of Compton-y signal around each galaxy\n",
    "\n",
    "**m_0_[label].csv** - Radial profile of the zeroth moment around each galaxy\n",
    "\n",
    "**m_1_[label].csv** - Radial profile of the first moment around each galaxy\n",
    "\n",
    "**m_2_[label].csv** - Radial profile of the second moment around each galaxy\n",
    "\n",
    "**thermal_energy_[label].csv** - Thermal energy within the radius specified when running around each galaxy\n",
    "\n",
    "Where [label] refers to the label you assigned above"
   ]
  },
  {
   "cell_type": "code",
   "execution_count": null,
   "id": "9cbf38e9",
   "metadata": {},
   "outputs": [],
   "source": []
  }
 ],
 "metadata": {
  "kernelspec": {
   "display_name": "Python 3 (ipykernel)",
   "language": "python",
   "name": "python3"
  },
  "language_info": {
   "codemirror_mode": {
    "name": "ipython",
    "version": 3
   },
   "file_extension": ".py",
   "mimetype": "text/x-python",
   "name": "python",
   "nbconvert_exporter": "python",
   "pygments_lexer": "ipython3",
   "version": "3.9.12"
  }
 },
 "nbformat": 4,
 "nbformat_minor": 5
}
